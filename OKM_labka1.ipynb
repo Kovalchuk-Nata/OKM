{
  "nbformat": 4,
  "nbformat_minor": 0,
  "metadata": {
    "colab": {
      "provenance": []
    },
    "kernelspec": {
      "name": "python3",
      "display_name": "Python 3"
    },
    "language_info": {
      "name": "python"
    }
  },
  "cells": [
    {
      "cell_type": "code",
      "execution_count": null,
      "metadata": {
        "id": "0_OOnDp-LjIX"
      },
      "outputs": [],
      "source": [
        "import numpy as np\n",
        "import math\n",
        "\n",
        "\n",
        "def exp_fun(average, x):\n",
        "    return 1 - pow(np.exp(1), -(average * x))\n",
        "\n",
        "def dis_fun(alpha, sigma, x):\n",
        "    return (1 / 2) * (1 + math.erf((x - alpha) / (np.sqrt(sigma) * np.sqrt(2))))"
      ]
    },
    {
      "cell_type": "markdown",
      "source": [
        "# Сhi squared table"
      ],
      "metadata": {
        "id": "yYN0elgFPimQ"
      }
    },
    {
      "cell_type": "code",
      "source": [
        "# k - Число степеней свободы\n",
        "# Рівня значимости a = 0.05\n",
        "hi_squared_table = {\n",
        "    1: 3.8,\n",
        "    2: 6.0,\n",
        "    3: 7.8,\n",
        "    4: 9.5,\n",
        "    5: 11.1,\n",
        "    6: 12.6,\n",
        "    7: 14.1,\n",
        "    8: 15.5,\n",
        "    9: 16.9,\n",
        "    10: 18.3,\n",
        "    11: 19.7,\n",
        "    12: 21.0,\n",
        "    13: 22.4,\n",
        "    14: 23.7,\n",
        "    15: 25.0,\n",
        "    16: 26.3,\n",
        "    17: 27.6,\n",
        "    18: 28.9,\n",
        "    19: 30.1,\n",
        "    20: 31.4,\n",
        "    21: 32.7,\n",
        "    22: 33.9,\n",
        "    23: 35.2,\n",
        "    24: 36.4,\n",
        "    25: 37.7,\n",
        "    26: 38.9,\n",
        "    27: 40.1,\n",
        "    28: 41.3,\n",
        "    29: 42.6,\n",
        "    30: 43.8\n",
        "}\n",
        "\n",
        "\n",
        "def find_table_hi_squared(x):\n",
        "    return hi_squared_table[x]"
      ],
      "metadata": {
        "id": "5OPQML09LlZL"
      },
      "execution_count": null,
      "outputs": []
    },
    {
      "cell_type": "markdown",
      "source": [
        "# Utils"
      ],
      "metadata": {
        "id": "dvPXmrEbNjWG"
      }
    },
    {
      "cell_type": "code",
      "source": [
        "import pandas as pd\n",
        "import matplotlib.pyplot as plt\n",
        "import seaborn as sns\n",
        "from termcolor import cprint\n",
        "\n",
        "\n",
        "def print_name(num):\n",
        "    cprint('\\n\\t___GENERATOR #' + str(num) + '___', 'cyan', attrs=['bold'])\n",
        "\n",
        "\n",
        "def print_extra_info(average, dispersion, observed_chi_2, expected_chi_2, result):\n",
        "    print('\\naverage: ' + str(average)+ ' dispersion: ' + str(dispersion))\n",
        "    print('X squared (практичний): ' + str(observed_chi_2))\n",
        "\n",
        "\n",
        "def get_average_and_dispersion(array):\n",
        "    s = 0\n",
        "    average = array.sum() / array.size\n",
        "\n",
        "    for i in array:\n",
        "        s += pow(i - average, 2)\n",
        "\n",
        "    dispersion = s / (array.size - 1)\n",
        "    return average, dispersion\n",
        "\n",
        "def get_intervals(array, num_of_intervals):\n",
        "    updated_num_of_intervals = num_of_intervals\n",
        "\n",
        "    interval_size = (array.max() - array.min()) / updated_num_of_intervals\n",
        "\n",
        "    entries_list = list()\n",
        "    limit_1 = array.min()\n",
        "\n",
        "    for i in range(0, num_of_intervals):\n",
        "        limit_2 = limit_1 + interval_size\n",
        "\n",
        "        counter = 0\n",
        "        for n in array:\n",
        "            if limit_1 <= n < limit_2:\n",
        "                counter += 1\n",
        "\n",
        "        # Check if the interval has fewer than 5 elements\n",
        "        if counter < 5 and i < num_of_intervals - 1:\n",
        "            # Merge\n",
        "            limit_2 += interval_size  # Expand the limit to include the next interval\n",
        "            counter += len([n for n in array if limit_1 <= n < limit_2])  # Update the counter\n",
        "            num_of_intervals -= 1  # Reduce the total number of intervals\n",
        "\n",
        "        # Add the current interval to the list\n",
        "        entries_list.append([[limit_1, limit_2], counter])\n",
        "\n",
        "        limit_1 = limit_2\n",
        "\n",
        "    return entries_list, updated_num_of_intervals\n",
        "\n",
        "def pull_intervals_from_list(entries, num_of_intervals):\n",
        "    interval_list = list()\n",
        "    for i in range(num_of_intervals):\n",
        "        interval_list.append([entries[i][0][0], entries[i][0][1]])\n",
        "    return interval_list\n",
        "\n",
        "\n",
        "def to_data_frame(arr, num_of_intervals):\n",
        "    copy_arr = [x[:] for x in arr]\n",
        "\n",
        "    for i in range(num_of_intervals):\n",
        "        name_interval = str(round(copy_arr[i][0][0], 2)) + '-' + str(round(copy_arr[i][0][1], 2))\n",
        "        copy_arr[i][0] = name_interval\n",
        "\n",
        "    df = pd.DataFrame(copy_arr, columns=['Intervals', 'Values'])\n",
        "    return df\n",
        "\n",
        "\n",
        "def plot_histogram(entries_list, num_of_intervals):\n",
        "    df_e = to_data_frame(entries_list, num_of_intervals)\n",
        "    # print(df_e.head(num_of_intervals))\n",
        "    sns.barplot(data=df_e, x='Intervals', y='Values')\n",
        "    plt.xticks(rotation=45)\n",
        "    plt.show()\n",
        "\n",
        "\n",
        "def get_chi_squared(expected_list, observed_list, num_of_intervals):\n",
        "    chi_2 = 0\n",
        "    for i in range(num_of_intervals):\n",
        "        expected = 10000 * expected_list[i]\n",
        "        chi_2 += pow(observed_list[i] - expected, 2) / expected\n",
        "    return chi_2\n",
        "\n",
        "\n",
        "def chi_2_tool(expected_list, observed_list, num_of_intervals):\n",
        "    observed_chi_squared = get_chi_squared(expected_list, observed_list, num_of_intervals)\n",
        "    expected_chi_squared = find_table_hi_squared(num_of_intervals - 1)\n",
        "    return observed_chi_squared, expected_chi_squared"
      ],
      "metadata": {
        "id": "1NHwgljbL0He"
      },
      "execution_count": null,
      "outputs": []
    },
    {
      "cell_type": "markdown",
      "source": [
        "# Method 1\n",
        "Exponential"
      ],
      "metadata": {
        "id": "njjuZhCwNtqd"
      }
    },
    {
      "cell_type": "code",
      "source": [
        "import random\n",
        "import numpy as np\n",
        "\n",
        "\n",
        "class Random1:\n",
        "    def __init__(self, lyambda, num_of_values):\n",
        "        self.lyambda = lyambda\n",
        "        self.num_of_values = num_of_values\n",
        "\n",
        "    def create_array(self):\n",
        "        x_array = np.array([])\n",
        "        for i in range(0, self.num_of_values):\n",
        "            ksi = random.random()\n",
        "            x_array = np.append(x_array, -np.log(ksi) / self.lyambda)\n",
        "        self.average = np.average(x_array)\n",
        "        return x_array\n",
        "\n",
        "    def get_expected_values(self, entries, num_of_intervals):\n",
        "        expected_list = list()\n",
        "\n",
        "        interval_list = pull_intervals_from_list(entries, num_of_intervals)\n",
        "\n",
        "        for i in range(num_of_intervals):\n",
        "            expected_list.append(self.calculate_exponential(interval_list, i))\n",
        "        return expected_list\n",
        "\n",
        "    def calculate_exponential(self, interval_list, i):\n",
        "        if interval_list[i][1] > interval_list[i][0]:\n",
        "            return exp_fun(self.lyambda, interval_list[i][1]) - exp_fun(self.lyambda, interval_list[i][0])\n",
        "        else:\n",
        "            return exp_fun(self.lyambda, interval_list[i][0]) - exp_fun(self.lyambda, interval_list[i][1])\n",
        "\n",
        "    def analyze(self, num_of_intervals):\n",
        "        print_name(1)\n",
        "\n",
        "        array = self.create_array()\n",
        "        average, dispersion = get_average_and_dispersion(array)\n",
        "\n",
        "        entries, updated_num_of_intervals = get_intervals(array, num_of_intervals)  #\n",
        "        plot_histogram(entries, updated_num_of_intervals)\n",
        "\n",
        "        expected_list = self.get_expected_values(entries, num_of_intervals)\n",
        "        observed_list = [i[1] for i in entries]\n",
        "\n",
        "        observed_chi_squared, expected_chi_squared = chi_2_tool(expected_list, observed_list, num_of_intervals)\n",
        "\n",
        "        print_extra_info(average, dispersion, observed_chi_squared, expected_chi_squared,\n",
        "                              observed_chi_squared < expected_chi_squared)"
      ],
      "metadata": {
        "id": "f9XIS_3oLu-H"
      },
      "execution_count": null,
      "outputs": []
    },
    {
      "cell_type": "code",
      "source": [
        "generator_1 = Random1(1, 10000)\n",
        "generator_1.analyze(20)"
      ],
      "metadata": {
        "colab": {
          "base_uri": "https://localhost:8080/",
          "height": 583
        },
        "id": "7MSWGadaLrbW",
        "outputId": "54059a6c-e0a0-494a-a9c4-1a2f6131c985"
      },
      "execution_count": null,
      "outputs": [
        {
          "output_type": "stream",
          "name": "stdout",
          "text": [
            "\n",
            "\t___GENERATOR #1___\n"
          ]
        },
        {
          "output_type": "display_data",
          "data": {
            "text/plain": [
              "<Figure size 640x480 with 1 Axes>"
            ],
            "image/png": "[encoded data removed]"
          },
          "metadata": {}
        },
        {
          "output_type": "stream",
          "name": "stdout",
          "text": [
            "\n",
            "average: 0.9827901497617897 dispersion: 0.9788584381198852\n",
            "X squared (практичний): 24.339197424709262\n"
          ]
        }
      ]
    },
    {
      "cell_type": "markdown",
      "source": [
        "# Method 2"
      ],
      "metadata": {
        "id": "noQCN8ITN4jq"
      }
    },
    {
      "cell_type": "code",
      "source": [
        "import random\n",
        "import numpy as np\n",
        "\n",
        "def get_myu():\n",
        "    myu = 0\n",
        "    for i in range(0, 12):\n",
        "        myu += random.uniform(0,1)\n",
        "    return myu - 6\n",
        "\n",
        "\n",
        "class Random2:\n",
        "    def __init__(self, alpha, sigma, num_of_values):\n",
        "        self.alpha = alpha\n",
        "        self.sigma = sigma\n",
        "        self.num_of_values = num_of_values\n",
        "\n",
        "    def create_array(self):\n",
        "        x_array = np.array([])\n",
        "        for i in range(0, self.num_of_values):\n",
        "            myu = get_myu()\n",
        "            x_array = np.append(x_array, self.sigma * myu + self.alpha)\n",
        "        return x_array\n",
        "\n",
        "    def get_expected_values(self, dispersion, entries, num_of_intervals):\n",
        "        expected_list = list()\n",
        "        interval_list = pull_intervals_from_list(entries, num_of_intervals)\n",
        "\n",
        "        for i in range(num_of_intervals):\n",
        "            expected_list.append(self.calculate_normal(dispersion, interval_list, i))\n",
        "        return expected_list\n",
        "\n",
        "    def calculate_normal(self, dispersion, interval_list, i):\n",
        "        x = (interval_list[i][1] + interval_list[i][0]) / 2\n",
        "        num = dis_fun(self.alpha, self.sigma, x)\n",
        "        if num > 0.5:\n",
        "            return 1 - num\n",
        "        else:\n",
        "            return num\n",
        "\n",
        "    def analyze(self, num_of_intervals):\n",
        "        print_name(2)\n",
        "\n",
        "        array = self.create_array()\n",
        "        average, dispersion = get_average_and_dispersion(array)\n",
        "\n",
        "        entries = get_intervals(array, num_of_intervals)  #\n",
        "        plot_histogram(entries, num_of_intervals)\n",
        "\n",
        "        observed_list = [i[1] for i in entries]\n",
        "\n",
        "        expected_list = self.get_expected_values(dispersion, entries, num_of_intervals)\n",
        "\n",
        "        observed_chi_squared, expected_chi_squared = chi_2_tool(expected_list, observed_list, num_of_intervals)\n",
        "\n",
        "        print_extra_info(average, dispersion, observed_chi_squared, expected_chi_squared,\n",
        "                              observed_chi_squared < expected_chi_squared)\n",
        "\n"
      ],
      "metadata": {
        "id": "tXUh2BgqkEBa"
      },
      "execution_count": null,
      "outputs": []
    },
    {
      "cell_type": "code",
      "source": [
        "generator_2 = Random2(2, 3/2, 10000)\n",
        "generator_2.analyze(20)"
      ],
      "metadata": {
        "id": "GgMKsvvdOBVj"
      },
      "execution_count": null,
      "outputs": []
    },
    {
      "cell_type": "markdown",
      "source": [
        "# Method 3"
      ],
      "metadata": {
        "id": "Y4jn8q6KO1pX"
      }
    },
    {
      "cell_type": "code",
      "source": [
        "import random\n",
        "import numpy as np\n",
        "\n",
        "\n",
        "class Random3:\n",
        "    def __init__(self, num_of_values):\n",
        "        self.a = pow(5, 12)\n",
        "        self.c = pow(2, 10)\n",
        "        self.num_of_values = num_of_values\n",
        "\n",
        "    def create_array(self):\n",
        "        z = self.a * random.random() % self.c\n",
        "        x_array = np.array([])\n",
        "        for i in range(0, self.num_of_values):\n",
        "            z = self.a * z % self.c\n",
        "            x_array = np.append(x_array, z / self.c)\n",
        "\n",
        "        return x_array\n",
        "\n",
        "    def get_expected_values(self, array, entries, num_of_intervals):\n",
        "        expected_list = list()\n",
        "\n",
        "        interval_list = pull_intervals_from_list(entries, num_of_intervals)\n",
        "\n",
        "        for i in range(num_of_intervals):\n",
        "            expected_list.append(self.calculate(array, interval_list, i))\n",
        "        return expected_list\n",
        "\n",
        "    def calculate(self, array, interval_list, i):\n",
        "        return (interval_list[i][1] - interval_list[i][0]) / (max(array) - min(array))\n",
        "\n",
        "    def analyze(self, num_of_intervals):\n",
        "        print_name(3)\n",
        "\n",
        "        array = self.create_array()\n",
        "        average, dispersion = get_average_and_dispersion(array)\n",
        "\n",
        "        entries, updated_num_of_intervals = get_intervals(array, num_of_intervals)\n",
        "        plot_histogram(entries, updated_num_of_intervals)\n",
        "\n",
        "        expected_list = self.get_expected_values(array, entries, num_of_intervals)\n",
        "        observed_list = [i[1] for i in entries]\n",
        "\n",
        "        observed_chi_squared, expected_chi_squared = chi_2_tool(expected_list, observed_list, num_of_intervals)\n",
        "\n",
        "        print_extra_info(average, dispersion, observed_chi_squared, expected_chi_squared,\n",
        "                              observed_chi_squared < expected_chi_squared)"
      ],
      "metadata": {
        "id": "Dvw-ukZ8kd65"
      },
      "execution_count": null,
      "outputs": []
    },
    {
      "cell_type": "code",
      "source": [
        "generator_3 = Random3(10000)\n",
        "generator_3.analyze(20)"
      ],
      "metadata": {
        "colab": {
          "base_uri": "https://localhost:8080/",
          "height": 577
        },
        "id": "qa7vWR9MO4hg",
        "outputId": "700142e1-ef34-4456-e6c0-407227003ccb"
      },
      "execution_count": null,
      "outputs": [
        {
          "output_type": "stream",
          "name": "stdout",
          "text": [
            "\n",
            "\t___GENERATOR #3___\n"
          ]
        },
        {
          "output_type": "display_data",
          "data": {
            "text/plain": [
              "<Figure size 640x480 with 1 Axes>"
            ],
            "image/png": "[encoded data removed]"
          },
          "metadata": {}
        },
        {
          "output_type": "stream",
          "name": "stdout",
          "text": [
            "\n",
            "average: 0.4968506251335144 dispersion: 0.08397059408004762\n",
            "X squared (практичний): 24.232000000000102\n"
          ]
        }
      ]
    }
  ]
}